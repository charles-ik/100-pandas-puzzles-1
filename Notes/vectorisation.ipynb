{
 "cells": [
  {
   "cell_type": "code",
   "execution_count": 2,
   "metadata": {},
   "outputs": [],
   "source": [
    "import numpy as np \n",
    "import pandas as pd\n",
    "import time \n",
    "import random "
   ]
  },
  {
   "cell_type": "markdown",
   "metadata": {},
   "source": [
    "Vectorisation is effectively writing more efficient code. \n",
    "The aim is replacing explicit python loops with high level operations that acts on either collections `(like arrays or columns)`. \n",
    "The operations are usually handled by libraries like NumPy and Pandas. "
   ]
  },
  {
   "cell_type": "markdown",
   "metadata": {},
   "source": [
    "For example "
   ]
  },
  {
   "cell_type": "code",
   "execution_count": 3,
   "metadata": {},
   "outputs": [
    {
     "data": {
      "text/plain": [
       "[2, 4, 6, 8, 10]"
      ]
     },
     "execution_count": 3,
     "metadata": {},
     "output_type": "execute_result"
    }
   ],
   "source": [
    "#instead of \n",
    "numbers =[1,2,3,4,5]\n",
    "doubled = [x*2 for x in numbers]\n",
    "doubled"
   ]
  },
  {
   "cell_type": "code",
   "execution_count": 4,
   "metadata": {},
   "outputs": [
    {
     "data": {
      "text/plain": [
       "array([ 2,  4,  6,  8, 10])"
      ]
     },
     "execution_count": 4,
     "metadata": {},
     "output_type": "execute_result"
    }
   ],
   "source": [
    "# do this - more efficient\n",
    "\n",
    "numbers = np.array([1,2,3,4,5])\n",
    "#numbers = np.array(range(6))\n",
    "doubled = numbers *2\n",
    "doubled"
   ]
  },
  {
   "cell_type": "markdown",
   "metadata": {},
   "source": [
    "**Why is vectorisation important?**\n",
    "1. Performance: accelerated performance,sometimes up to 100x\n",
    "2. Clarity: code is more concise and readable \n",
    "3. Scalability : Operations run in miliseconds over thousands of rows. - we deal with large datasets at LBG, this is useful \n",
    "4. Expressiveness: Write what to do, not how to loop over data"
   ]
  },
  {
   "cell_type": "markdown",
   "metadata": {},
   "source": [
    "## **Vectorisation in Pandas**\n",
    "- Pandas is built on to of NumPy. \n",
    "- Supports efficient, complied operations over ***entire datasets**  \n",
    "- vectorised Pandas methods enchance performance, compared to other methods.. \n",
    "- e.g. `.apply()` or loops operate row by row, fine for small data but scale poorly "
   ]
  },
  {
   "cell_type": "code",
   "execution_count": 5,
   "metadata": {},
   "outputs": [],
   "source": [
    "\n",
    "df = pd.DataFrame({\n",
    "    'drink': np.random.choice(['Latte','Espresso','Cold Brew','Matcha','Chai'],size =1000000),\n",
    "    'size':np.random.choice(['Small','Medium','Large'],size = 1000000), \n",
    "    'base_price':np.random.uniform(2,6,size=1000000).round(2), \n",
    "    'tip':np.random.uniform(0,2,size=1000000).round(2), \n",
    "    'peak_hours':np.random.choice([True,False],size=1000000)\n",
    "})"
   ]
  },
  {
   "cell_type": "code",
   "execution_count": 6,
   "metadata": {},
   "outputs": [
    {
     "data": {
      "text/plain": [
       "6.07"
      ]
     },
     "execution_count": 6,
     "metadata": {},
     "output_type": "execute_result"
    }
   ],
   "source": [
    "\n",
    "\n",
    "number = round(random.uniform(1,10),2)\n",
    "number"
   ]
  },
  {
   "cell_type": "markdown",
   "metadata": {},
   "source": [
    "### Value mapping with `.map()`\n",
    "Its common to use .apply() with conditionals and lookups.  \n",
    "The more efficient vectorised approach is to use .map() with a dictionary "
   ]
  },
  {
   "cell_type": "code",
   "execution_count": 8,
   "metadata": {},
   "outputs": [
    {
     "name": "stdout",
     "output_type": "stream",
     "text": [
      "Non Vectorised time: 12.158571481704712 Seconds\n"
     ]
    }
   ],
   "source": [
    "# Non vectorised code\n",
    "start = time.time()\n",
    "\n",
    "def adjusted_price(row):\n",
    "    if row['size'] =='Medium':\n",
    "        return row ['base_price'] + 0.5\n",
    "    elif row['size'] == 'Large':\n",
    "        return row['base_price'] + 1.0 \n",
    "    return row['base_price']\n",
    "\n",
    "df['price_apply'] = df.apply(adjusted_price,axis =1)\n",
    "\n",
    "print(f'Non Vectorised time: {time.time()-start} Seconds') # This calculates the elapsed time by subtracting the starting timestamp from the current timestamp"
   ]
  },
  {
   "cell_type": "code",
   "execution_count": 9,
   "metadata": {},
   "outputs": [
    {
     "name": "stdout",
     "output_type": "stream",
     "text": [
      "Vectorised time: 0.22067832946777344 seconds\n"
     ]
    }
   ],
   "source": [
    "#Vectorised code \n",
    "\n",
    "start = time.time()\n",
    "\n",
    "df['price_vec'] = df['base_price'] + df['size'].map({\n",
    "    'Small':0, \n",
    "    'Medium':0.5,\n",
    "    'Large': 1.0\n",
    "})\n",
    "\n",
    "print(f'Vectorised time: {time.time()-start} seconds')"
   ]
  },
  {
   "cell_type": "code",
   "execution_count": 10,
   "metadata": {},
   "outputs": [
    {
     "data": {
      "text/html": [
       "<div>\n",
       "<style scoped>\n",
       "    .dataframe tbody tr th:only-of-type {\n",
       "        vertical-align: middle;\n",
       "    }\n",
       "\n",
       "    .dataframe tbody tr th {\n",
       "        vertical-align: top;\n",
       "    }\n",
       "\n",
       "    .dataframe thead th {\n",
       "        text-align: right;\n",
       "    }\n",
       "</style>\n",
       "<table border=\"1\" class=\"dataframe\">\n",
       "  <thead>\n",
       "    <tr style=\"text-align: right;\">\n",
       "      <th></th>\n",
       "      <th>drink</th>\n",
       "      <th>size</th>\n",
       "      <th>base_price</th>\n",
       "      <th>tip</th>\n",
       "      <th>peak_hours</th>\n",
       "      <th>price_apply</th>\n",
       "      <th>price_vec</th>\n",
       "    </tr>\n",
       "  </thead>\n",
       "  <tbody>\n",
       "    <tr>\n",
       "      <th>0</th>\n",
       "      <td>Matcha</td>\n",
       "      <td>Small</td>\n",
       "      <td>4.56</td>\n",
       "      <td>1.40</td>\n",
       "      <td>True</td>\n",
       "      <td>4.56</td>\n",
       "      <td>4.56</td>\n",
       "    </tr>\n",
       "    <tr>\n",
       "      <th>1</th>\n",
       "      <td>Latte</td>\n",
       "      <td>Small</td>\n",
       "      <td>2.25</td>\n",
       "      <td>1.83</td>\n",
       "      <td>True</td>\n",
       "      <td>2.25</td>\n",
       "      <td>2.25</td>\n",
       "    </tr>\n",
       "    <tr>\n",
       "      <th>2</th>\n",
       "      <td>Latte</td>\n",
       "      <td>Large</td>\n",
       "      <td>4.10</td>\n",
       "      <td>1.85</td>\n",
       "      <td>False</td>\n",
       "      <td>5.10</td>\n",
       "      <td>5.10</td>\n",
       "    </tr>\n",
       "    <tr>\n",
       "      <th>3</th>\n",
       "      <td>Espresso</td>\n",
       "      <td>Small</td>\n",
       "      <td>4.45</td>\n",
       "      <td>1.58</td>\n",
       "      <td>False</td>\n",
       "      <td>4.45</td>\n",
       "      <td>4.45</td>\n",
       "    </tr>\n",
       "    <tr>\n",
       "      <th>4</th>\n",
       "      <td>Matcha</td>\n",
       "      <td>Small</td>\n",
       "      <td>2.30</td>\n",
       "      <td>0.11</td>\n",
       "      <td>True</td>\n",
       "      <td>2.30</td>\n",
       "      <td>2.30</td>\n",
       "    </tr>\n",
       "    <tr>\n",
       "      <th>...</th>\n",
       "      <td>...</td>\n",
       "      <td>...</td>\n",
       "      <td>...</td>\n",
       "      <td>...</td>\n",
       "      <td>...</td>\n",
       "      <td>...</td>\n",
       "      <td>...</td>\n",
       "    </tr>\n",
       "    <tr>\n",
       "      <th>999995</th>\n",
       "      <td>Chai</td>\n",
       "      <td>Medium</td>\n",
       "      <td>4.26</td>\n",
       "      <td>1.06</td>\n",
       "      <td>True</td>\n",
       "      <td>4.76</td>\n",
       "      <td>4.76</td>\n",
       "    </tr>\n",
       "    <tr>\n",
       "      <th>999996</th>\n",
       "      <td>Latte</td>\n",
       "      <td>Small</td>\n",
       "      <td>5.85</td>\n",
       "      <td>1.12</td>\n",
       "      <td>False</td>\n",
       "      <td>5.85</td>\n",
       "      <td>5.85</td>\n",
       "    </tr>\n",
       "    <tr>\n",
       "      <th>999997</th>\n",
       "      <td>Espresso</td>\n",
       "      <td>Medium</td>\n",
       "      <td>2.17</td>\n",
       "      <td>0.79</td>\n",
       "      <td>True</td>\n",
       "      <td>2.67</td>\n",
       "      <td>2.67</td>\n",
       "    </tr>\n",
       "    <tr>\n",
       "      <th>999998</th>\n",
       "      <td>Cold Brew</td>\n",
       "      <td>Small</td>\n",
       "      <td>5.05</td>\n",
       "      <td>1.59</td>\n",
       "      <td>True</td>\n",
       "      <td>5.05</td>\n",
       "      <td>5.05</td>\n",
       "    </tr>\n",
       "    <tr>\n",
       "      <th>999999</th>\n",
       "      <td>Matcha</td>\n",
       "      <td>Medium</td>\n",
       "      <td>5.43</td>\n",
       "      <td>1.38</td>\n",
       "      <td>True</td>\n",
       "      <td>5.93</td>\n",
       "      <td>5.93</td>\n",
       "    </tr>\n",
       "  </tbody>\n",
       "</table>\n",
       "<p>1000000 rows × 7 columns</p>\n",
       "</div>"
      ],
      "text/plain": [
       "            drink    size  base_price   tip  peak_hours  price_apply  \\\n",
       "0          Matcha   Small        4.56  1.40        True         4.56   \n",
       "1           Latte   Small        2.25  1.83        True         2.25   \n",
       "2           Latte   Large        4.10  1.85       False         5.10   \n",
       "3        Espresso   Small        4.45  1.58       False         4.45   \n",
       "4          Matcha   Small        2.30  0.11        True         2.30   \n",
       "...           ...     ...         ...   ...         ...          ...   \n",
       "999995       Chai  Medium        4.26  1.06        True         4.76   \n",
       "999996      Latte   Small        5.85  1.12       False         5.85   \n",
       "999997   Espresso  Medium        2.17  0.79        True         2.67   \n",
       "999998  Cold Brew   Small        5.05  1.59        True         5.05   \n",
       "999999     Matcha  Medium        5.43  1.38        True         5.93   \n",
       "\n",
       "        price_vec  \n",
       "0            4.56  \n",
       "1            2.25  \n",
       "2            5.10  \n",
       "3            4.45  \n",
       "4            2.30  \n",
       "...           ...  \n",
       "999995       4.76  \n",
       "999996       5.85  \n",
       "999997       2.67  \n",
       "999998       5.05  \n",
       "999999       5.93  \n",
       "\n",
       "[1000000 rows x 7 columns]"
      ]
     },
     "execution_count": 10,
     "metadata": {},
     "output_type": "execute_result"
    }
   ],
   "source": [
    "df"
   ]
  },
  {
   "cell_type": "markdown",
   "metadata": {},
   "source": [
    "### Conditional assignment with `np.where()`\n",
    "\n",
    "> instead of writing `if` conditions inside `apply()`  \n",
    "> `np.where()` can be used for fast,element wise conditionals"
   ]
  },
  {
   "cell_type": "code",
   "execution_count": 11,
   "metadata": {},
   "outputs": [
    {
     "name": "stdout",
     "output_type": "stream",
     "text": [
      "Non Vectorised time: 14.603986740112305 Seconds\n"
     ]
    }
   ],
   "source": [
    "# non vectorised\n",
    "\n",
    "start = time.time()\n",
    "df['tipper_apply'] = df.apply(lambda x: 'regular' if x['tip'] < 1.0 else 'generous',axis =1)\n",
    "\n",
    "print(f'Non Vectorised time: {time.time()-start} Seconds')\n"
   ]
  },
  {
   "cell_type": "code",
   "execution_count": 12,
   "metadata": {},
   "outputs": [],
   "source": [
    "# vectorised\n",
    "\n",
    "df['tipper_vectorised'] = np.where(df['tip'] < 1.0 ,'regular','generous')\n"
   ]
  },
  {
   "cell_type": "markdown",
   "metadata": {},
   "source": [
    "**multiple condtions using `np.select()`**"
   ]
  },
  {
   "cell_type": "markdown",
   "metadata": {},
   "source": [
    "**Multiple Conditions with np.where**\n",
    "-----\n",
    "\n",
    "NumPy's `np.where()` can only evaluate a single condition directly, but you can handle multiple conditions in several ways: \n",
    "\n",
    "**Method 1: Nested np.where calls**\n",
    "-------\n",
    "```python\n",
    "# Three conditions example\n",
    "result = np.where(condition1, \n",
    "          value1, \n",
    "          np.where(condition2, \n",
    "                value2,\n",
    "                np.where(condition3,\n",
    "                      value3,\n",
    "                      default_value)))\n",
    "```\n",
    "\n",
    "This creates a chain of if-else statements, but can become hard to read with many conditions.\n",
    "\n",
    "\n",
    "**Method 2: Combining conditions with logical operators**\n",
    "--------\n",
    "```python\n",
    "\n",
    "# Using & (and), | (or), ~ (not)\n",
    "condition = (df['column1'] > 10) & (df['column2'] == 'value')\n",
    "result = np.where(condition, True_value, False_value)\n",
    "```\n",
    "This works well when you need to apply the same result to combinations of conditions.\n",
    "\n",
    "\n",
    "**Method 3: Use np.select for multiple conditions**\n",
    "-------\n",
    "```python \n",
    "\n",
    "conditions = [\n",
    "    df['size'] == 'Small',\n",
    "    df['size'] == 'Medium',\n",
    "    df['size'] == 'Large'\n",
    "]\n",
    "\n",
    "choices = [\n",
    "    df['base_price'] * 0.8,  # Small gets 20% discount\n",
    "    df['base_price'] * 1.1,  # Medium gets 10% markup\n",
    "    df['base_price'] * 1.2   # Large gets 20% markup\n",
    "]\n",
    "\n",
    "df['adjusted_price'] = np.select(conditions, choices, default=df['base_price'])\n",
    "```\n",
    "\n",
    "`np.select()` evaluates conditions in order and returns the value from `choices` for the first True condition.     \n",
    "The optional `default` parameter specifies what to return when no conditions are met.  \n",
    "This is the preferred approach for multiple conditions with different outcomes."
   ]
  },
  {
   "cell_type": "code",
   "execution_count": 13,
   "metadata": {},
   "outputs": [
    {
     "name": "stdout",
     "output_type": "stream",
     "text": [
      "Vectorised time: 0.3285396099090576 seconds\n"
     ]
    }
   ],
   "source": [
    "\n",
    "\n",
    "start = time.time()\n",
    "conditions = [\n",
    "    df['tip'] < 0.2, \n",
    "    (df['tip'] >= 0.2) & (df['tip'] <= 1.0),\n",
    "    df['tip'] > 1.0\n",
    "]\n",
    "\n",
    "# Define corresponding choices\n",
    "choices = [\n",
    "    'Greedy bastard', \n",
    "    'regular', \n",
    "    'generous'\n",
    "]\n",
    "\n",
    "# Use np.select instead of np.where\n",
    "df['tipper_enhanced'] = np.select(conditions, choices, default='unknown')\n",
    "\n",
    "print(f'Vectorised time: {time.time()-start} seconds')"
   ]
  },
  {
   "cell_type": "code",
   "execution_count": 14,
   "metadata": {},
   "outputs": [
    {
     "name": "stdout",
     "output_type": "stream",
     "text": [
      "Non Vectorised time: 21.610181093215942 seconds\n"
     ]
    }
   ],
   "source": [
    "# Non vectorised \n",
    "def calculate_revenue(row):\n",
    "    discount = 1.0\n",
    "    if row['peak_hours']:\n",
    "        if row['size'] == 'Small':\n",
    "            discount = 0.95\n",
    "        elif row['size'] == 'Medium':\n",
    "            discount = 0.90\n",
    "        elif row['size'] =='Large':\n",
    "            discount = 0.85\n",
    "    return round(((row['base_price'] + row['tip'])*discount),2)\n",
    "\n",
    "start= time.time()\n",
    "df['Revenue_apply'] = df.apply(calculate_revenue,axis =1)\n",
    "print(f'Non Vectorised time: {time.time()-start} seconds')"
   ]
  },
  {
   "cell_type": "code",
   "execution_count": 15,
   "metadata": {},
   "outputs": [
    {
     "name": "stdout",
     "output_type": "stream",
     "text": [
      "Vectorised time: 0.37608766555786133 seconds\n"
     ]
    }
   ],
   "source": [
    "# vectorised version - my attempt\n",
    "\n",
    "start = time.time()\n",
    "\n",
    "conditions = [df['size'] == 'Small',\n",
    "              df['size'] == 'Medium',\n",
    "              df['size'] =='Large']\n",
    "\n",
    "results = [round((df['base_price'] + df['tip'])* 0.95 , 2),\n",
    "           round((df['base_price'] + df['tip'])* 0.90 , 2),\n",
    "           round((df['base_price'] + df['tip'])* 0.85 , 2)\n",
    "    \n",
    "]\n",
    "\n",
    "df['Revenue_vec'] = np.select(condlist= conditions, choicelist= results ,default=(df['base_price'] + df['tip']))\n",
    "\n",
    "\n",
    "print(f'Vectorised time: {time.time()-start} seconds')"
   ]
  },
  {
   "cell_type": "code",
   "execution_count": 16,
   "metadata": {},
   "outputs": [
    {
     "name": "stdout",
     "output_type": "stream",
     "text": [
      "Vectorised time (improved): 0.3451662063598633 seconds\n"
     ]
    }
   ],
   "source": [
    "##non vectorised - my attempt, improved \n",
    "\n",
    "\n",
    "# Improved vectorized version based on your attempt\n",
    "\n",
    "start = time.time()\n",
    "\n",
    "# Step 1: Calculate the discount factors first\n",
    "conditions = [\n",
    "    (df['peak_hours']) & (df['size'] == 'Small'),\n",
    "    (df['peak_hours']) & (df['size'] == 'Medium'),\n",
    "    (df['peak_hours']) & (df['size'] == 'Large')\n",
    "]\n",
    "\n",
    "discount_factors = [0.95, 0.90, 0.85]\n",
    "\n",
    "# Apply the discount factor using np.select\n",
    "discounts = np.select(condlist=conditions, choicelist=discount_factors, default=1.0)\n",
    "\n",
    "# Step 2: Calculate the revenue with the discounts\n",
    "base_amount = df['base_price'] + df['tip']\n",
    "df['Revenue_vec_improved'] = round(base_amount * discounts, 2)\n",
    "\n",
    "print(f'Vectorised time (improved): {time.time()-start} seconds')"
   ]
  },
  {
   "cell_type": "code",
   "execution_count": 17,
   "metadata": {},
   "outputs": [
    {
     "name": "stdout",
     "output_type": "stream",
     "text": [
      "Vectorised time: 0.2875537872314453 seconds\n"
     ]
    }
   ],
   "source": [
    "# vectorised version - suggested solution\n",
    "\n",
    "start = time.time()\n",
    "\n",
    "discounts = np.select(\n",
    "\n",
    "    condlist=[(df['peak_hours']) & (df['size'] == 'Small'),\n",
    "              (df['peak_hours']) &(df['size'] == 'Medium'),\n",
    "              (df['peak_hours']) & (df['size'] =='Large') ],\n",
    "    choicelist=[ 0.95,0.90,0.85],\n",
    "    default=1.0\n",
    ")\n",
    "\n",
    "df['revenue_vec'] = round(((df['base_price'] + df['tip'])*discounts),2)\n",
    "\n",
    "print(f'Vectorised time: {time.time()-start} seconds')"
   ]
  },
  {
   "cell_type": "code",
   "execution_count": 18,
   "metadata": {},
   "outputs": [
    {
     "data": {
      "text/html": [
       "<div>\n",
       "<style scoped>\n",
       "    .dataframe tbody tr th:only-of-type {\n",
       "        vertical-align: middle;\n",
       "    }\n",
       "\n",
       "    .dataframe tbody tr th {\n",
       "        vertical-align: top;\n",
       "    }\n",
       "\n",
       "    .dataframe thead th {\n",
       "        text-align: right;\n",
       "    }\n",
       "</style>\n",
       "<table border=\"1\" class=\"dataframe\">\n",
       "  <thead>\n",
       "    <tr style=\"text-align: right;\">\n",
       "      <th></th>\n",
       "      <th>drink</th>\n",
       "      <th>size</th>\n",
       "      <th>base_price</th>\n",
       "      <th>tip</th>\n",
       "      <th>peak_hours</th>\n",
       "      <th>price_apply</th>\n",
       "      <th>price_vec</th>\n",
       "      <th>tipper_apply</th>\n",
       "      <th>tipper_vectorised</th>\n",
       "      <th>tipper_enhanced</th>\n",
       "      <th>Revenue_apply</th>\n",
       "      <th>Revenue_vec</th>\n",
       "      <th>Revenue_vec_improved</th>\n",
       "      <th>revenue_vec</th>\n",
       "    </tr>\n",
       "  </thead>\n",
       "  <tbody>\n",
       "    <tr>\n",
       "      <th>0</th>\n",
       "      <td>Matcha</td>\n",
       "      <td>Small</td>\n",
       "      <td>4.56</td>\n",
       "      <td>1.40</td>\n",
       "      <td>True</td>\n",
       "      <td>4.56</td>\n",
       "      <td>4.56</td>\n",
       "      <td>generous</td>\n",
       "      <td>generous</td>\n",
       "      <td>generous</td>\n",
       "      <td>5.66</td>\n",
       "      <td>5.66</td>\n",
       "      <td>5.66</td>\n",
       "      <td>5.66</td>\n",
       "    </tr>\n",
       "    <tr>\n",
       "      <th>1</th>\n",
       "      <td>Latte</td>\n",
       "      <td>Small</td>\n",
       "      <td>2.25</td>\n",
       "      <td>1.83</td>\n",
       "      <td>True</td>\n",
       "      <td>2.25</td>\n",
       "      <td>2.25</td>\n",
       "      <td>generous</td>\n",
       "      <td>generous</td>\n",
       "      <td>generous</td>\n",
       "      <td>3.88</td>\n",
       "      <td>3.88</td>\n",
       "      <td>3.88</td>\n",
       "      <td>3.88</td>\n",
       "    </tr>\n",
       "    <tr>\n",
       "      <th>2</th>\n",
       "      <td>Latte</td>\n",
       "      <td>Large</td>\n",
       "      <td>4.10</td>\n",
       "      <td>1.85</td>\n",
       "      <td>False</td>\n",
       "      <td>5.10</td>\n",
       "      <td>5.10</td>\n",
       "      <td>generous</td>\n",
       "      <td>generous</td>\n",
       "      <td>generous</td>\n",
       "      <td>5.95</td>\n",
       "      <td>5.06</td>\n",
       "      <td>5.95</td>\n",
       "      <td>5.95</td>\n",
       "    </tr>\n",
       "    <tr>\n",
       "      <th>3</th>\n",
       "      <td>Espresso</td>\n",
       "      <td>Small</td>\n",
       "      <td>4.45</td>\n",
       "      <td>1.58</td>\n",
       "      <td>False</td>\n",
       "      <td>4.45</td>\n",
       "      <td>4.45</td>\n",
       "      <td>generous</td>\n",
       "      <td>generous</td>\n",
       "      <td>generous</td>\n",
       "      <td>6.03</td>\n",
       "      <td>5.73</td>\n",
       "      <td>6.03</td>\n",
       "      <td>6.03</td>\n",
       "    </tr>\n",
       "    <tr>\n",
       "      <th>4</th>\n",
       "      <td>Matcha</td>\n",
       "      <td>Small</td>\n",
       "      <td>2.30</td>\n",
       "      <td>0.11</td>\n",
       "      <td>True</td>\n",
       "      <td>2.30</td>\n",
       "      <td>2.30</td>\n",
       "      <td>regular</td>\n",
       "      <td>regular</td>\n",
       "      <td>Greedy bastard</td>\n",
       "      <td>2.29</td>\n",
       "      <td>2.29</td>\n",
       "      <td>2.29</td>\n",
       "      <td>2.29</td>\n",
       "    </tr>\n",
       "    <tr>\n",
       "      <th>...</th>\n",
       "      <td>...</td>\n",
       "      <td>...</td>\n",
       "      <td>...</td>\n",
       "      <td>...</td>\n",
       "      <td>...</td>\n",
       "      <td>...</td>\n",
       "      <td>...</td>\n",
       "      <td>...</td>\n",
       "      <td>...</td>\n",
       "      <td>...</td>\n",
       "      <td>...</td>\n",
       "      <td>...</td>\n",
       "      <td>...</td>\n",
       "      <td>...</td>\n",
       "    </tr>\n",
       "    <tr>\n",
       "      <th>999995</th>\n",
       "      <td>Chai</td>\n",
       "      <td>Medium</td>\n",
       "      <td>4.26</td>\n",
       "      <td>1.06</td>\n",
       "      <td>True</td>\n",
       "      <td>4.76</td>\n",
       "      <td>4.76</td>\n",
       "      <td>generous</td>\n",
       "      <td>generous</td>\n",
       "      <td>generous</td>\n",
       "      <td>4.79</td>\n",
       "      <td>4.79</td>\n",
       "      <td>4.79</td>\n",
       "      <td>4.79</td>\n",
       "    </tr>\n",
       "    <tr>\n",
       "      <th>999996</th>\n",
       "      <td>Latte</td>\n",
       "      <td>Small</td>\n",
       "      <td>5.85</td>\n",
       "      <td>1.12</td>\n",
       "      <td>False</td>\n",
       "      <td>5.85</td>\n",
       "      <td>5.85</td>\n",
       "      <td>generous</td>\n",
       "      <td>generous</td>\n",
       "      <td>generous</td>\n",
       "      <td>6.97</td>\n",
       "      <td>6.62</td>\n",
       "      <td>6.97</td>\n",
       "      <td>6.97</td>\n",
       "    </tr>\n",
       "    <tr>\n",
       "      <th>999997</th>\n",
       "      <td>Espresso</td>\n",
       "      <td>Medium</td>\n",
       "      <td>2.17</td>\n",
       "      <td>0.79</td>\n",
       "      <td>True</td>\n",
       "      <td>2.67</td>\n",
       "      <td>2.67</td>\n",
       "      <td>regular</td>\n",
       "      <td>regular</td>\n",
       "      <td>regular</td>\n",
       "      <td>2.66</td>\n",
       "      <td>2.66</td>\n",
       "      <td>2.66</td>\n",
       "      <td>2.66</td>\n",
       "    </tr>\n",
       "    <tr>\n",
       "      <th>999998</th>\n",
       "      <td>Cold Brew</td>\n",
       "      <td>Small</td>\n",
       "      <td>5.05</td>\n",
       "      <td>1.59</td>\n",
       "      <td>True</td>\n",
       "      <td>5.05</td>\n",
       "      <td>5.05</td>\n",
       "      <td>generous</td>\n",
       "      <td>generous</td>\n",
       "      <td>generous</td>\n",
       "      <td>6.31</td>\n",
       "      <td>6.31</td>\n",
       "      <td>6.31</td>\n",
       "      <td>6.31</td>\n",
       "    </tr>\n",
       "    <tr>\n",
       "      <th>999999</th>\n",
       "      <td>Matcha</td>\n",
       "      <td>Medium</td>\n",
       "      <td>5.43</td>\n",
       "      <td>1.38</td>\n",
       "      <td>True</td>\n",
       "      <td>5.93</td>\n",
       "      <td>5.93</td>\n",
       "      <td>generous</td>\n",
       "      <td>generous</td>\n",
       "      <td>generous</td>\n",
       "      <td>6.13</td>\n",
       "      <td>6.13</td>\n",
       "      <td>6.13</td>\n",
       "      <td>6.13</td>\n",
       "    </tr>\n",
       "  </tbody>\n",
       "</table>\n",
       "<p>1000000 rows × 14 columns</p>\n",
       "</div>"
      ],
      "text/plain": [
       "            drink    size  base_price   tip  peak_hours  price_apply  \\\n",
       "0          Matcha   Small        4.56  1.40        True         4.56   \n",
       "1           Latte   Small        2.25  1.83        True         2.25   \n",
       "2           Latte   Large        4.10  1.85       False         5.10   \n",
       "3        Espresso   Small        4.45  1.58       False         4.45   \n",
       "4          Matcha   Small        2.30  0.11        True         2.30   \n",
       "...           ...     ...         ...   ...         ...          ...   \n",
       "999995       Chai  Medium        4.26  1.06        True         4.76   \n",
       "999996      Latte   Small        5.85  1.12       False         5.85   \n",
       "999997   Espresso  Medium        2.17  0.79        True         2.67   \n",
       "999998  Cold Brew   Small        5.05  1.59        True         5.05   \n",
       "999999     Matcha  Medium        5.43  1.38        True         5.93   \n",
       "\n",
       "        price_vec tipper_apply tipper_vectorised tipper_enhanced  \\\n",
       "0            4.56     generous          generous        generous   \n",
       "1            2.25     generous          generous        generous   \n",
       "2            5.10     generous          generous        generous   \n",
       "3            4.45     generous          generous        generous   \n",
       "4            2.30      regular           regular  Greedy bastard   \n",
       "...           ...          ...               ...             ...   \n",
       "999995       4.76     generous          generous        generous   \n",
       "999996       5.85     generous          generous        generous   \n",
       "999997       2.67      regular           regular         regular   \n",
       "999998       5.05     generous          generous        generous   \n",
       "999999       5.93     generous          generous        generous   \n",
       "\n",
       "        Revenue_apply  Revenue_vec  Revenue_vec_improved  revenue_vec  \n",
       "0                5.66         5.66                  5.66         5.66  \n",
       "1                3.88         3.88                  3.88         3.88  \n",
       "2                5.95         5.06                  5.95         5.95  \n",
       "3                6.03         5.73                  6.03         6.03  \n",
       "4                2.29         2.29                  2.29         2.29  \n",
       "...               ...          ...                   ...          ...  \n",
       "999995           4.79         4.79                  4.79         4.79  \n",
       "999996           6.97         6.62                  6.97         6.97  \n",
       "999997           2.66         2.66                  2.66         2.66  \n",
       "999998           6.31         6.31                  6.31         6.31  \n",
       "999999           6.13         6.13                  6.13         6.13  \n",
       "\n",
       "[1000000 rows x 14 columns]"
      ]
     },
     "execution_count": 18,
     "metadata": {},
     "output_type": "execute_result"
    }
   ],
   "source": [
    "df"
   ]
  },
  {
   "cell_type": "code",
   "execution_count": 19,
   "metadata": {},
   "outputs": [],
   "source": [
    "## The mac is alot quicker than both the windows computers at crunching large datasets"
   ]
  }
 ],
 "metadata": {
  "kernelspec": {
   "display_name": "Python 3",
   "language": "python",
   "name": "python3"
  },
  "language_info": {
   "codemirror_mode": {
    "name": "ipython",
    "version": 3
   },
   "file_extension": ".py",
   "mimetype": "text/x-python",
   "name": "python",
   "nbconvert_exporter": "python",
   "pygments_lexer": "ipython3",
   "version": "3.9.22"
  }
 },
 "nbformat": 4,
 "nbformat_minor": 2
}
