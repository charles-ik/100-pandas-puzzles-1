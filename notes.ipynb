{
 "cells": [
  {
   "cell_type": "markdown",
   "metadata": {},
   "source": [
    "# Using the `shift` method"
   ]
  },
  {
   "cell_type": "code",
   "execution_count": 6,
   "metadata": {},
   "outputs": [
    {
     "name": "stdout",
     "output_type": "stream",
     "text": [
      "\n",
      "Shift index by desired number of periods with an optional time `freq`.\n",
      "\n",
      "When `freq` is not passed, shift the index without realigning the data.\n",
      "If `freq` is passed (in this case, the index must be date or datetime,\n",
      "or it will raise a `NotImplementedError`), the index will be\n",
      "increased using the periods and the `freq`. `freq` can be inferred\n",
      "when specified as \"infer\" as long as either freq or inferred_freq\n",
      "attribute is set in the index.\n",
      "\n",
      "Parameters\n",
      "----------\n",
      "periods : int or Sequence\n",
      "    Number of periods to shift. Can be positive or negative.\n",
      "    If an iterable of ints, the data will be shifted once by each int.\n",
      "    This is equivalent to shifting by one value at a time and\n",
      "    concatenating all resulting frames. The resulting columns will have\n",
      "    the shift suffixed to their column names. For multiple periods,\n",
      "    axis must not be 1.\n",
      "freq : DateOffset, tseries.offsets, timedelta, or str, optional\n",
      "    Offset to use from the tseries module or time rule (e.g. 'EOM').\n",
      "    If `freq` is specified then the index values are shifted but the\n",
      "    data is not realigned. That is, use `freq` if you would like to\n",
      "    extend the index when shifting and preserve the original data.\n",
      "    If `freq` is specified as \"infer\" then it will be inferred from\n",
      "    the freq or inferred_freq attributes of the index. If neither of\n",
      "    those attributes exist, a ValueError is thrown.\n",
      "axis : {0 or 'index', 1 or 'columns', None}, default None\n",
      "    Shift direction. For `Series` this parameter is unused and defaults to 0.\n",
      "fill_value : object, optional\n",
      "    The scalar value to use for newly introduced missing values.\n",
      "    the default depends on the dtype of `self`.\n",
      "    For numeric data, ``np.nan`` is used.\n",
      "    For datetime, timedelta, or period data, etc. :attr:`NaT` is used.\n",
      "    For extension dtypes, ``self.dtype.na_value`` is used.\n",
      "suffix : str, optional\n",
      "    If str and periods is an iterable, this is added after the column\n",
      "    name and before the shift value for each shifted column name.\n",
      "\n",
      "Returns\n",
      "-------\n",
      "DataFrame\n",
      "    Copy of input object, shifted.\n",
      "\n",
      "See Also\n",
      "--------\n",
      "Index.shift : Shift values of Index.\n",
      "DatetimeIndex.shift : Shift values of DatetimeIndex.\n",
      "PeriodIndex.shift : Shift values of PeriodIndex.\n",
      "\n",
      "Examples\n",
      "--------\n",
      ">>> df = pd.DataFrame({\"Col1\": [10, 20, 15, 30, 45],\n",
      "...                    \"Col2\": [13, 23, 18, 33, 48],\n",
      "...                    \"Col3\": [17, 27, 22, 37, 52]},\n",
      "...                   index=pd.date_range(\"2020-01-01\", \"2020-01-05\"))\n",
      ">>> df\n",
      "            Col1  Col2  Col3\n",
      "2020-01-01    10    13    17\n",
      "2020-01-02    20    23    27\n",
      "2020-01-03    15    18    22\n",
      "2020-01-04    30    33    37\n",
      "2020-01-05    45    48    52\n",
      "\n",
      ">>> df.shift(periods=3)\n",
      "            Col1  Col2  Col3\n",
      "2020-01-01   NaN   NaN   NaN\n",
      "2020-01-02   NaN   NaN   NaN\n",
      "2020-01-03   NaN   NaN   NaN\n",
      "2020-01-04  10.0  13.0  17.0\n",
      "2020-01-05  20.0  23.0  27.0\n",
      "\n",
      ">>> df.shift(periods=1, axis=\"columns\")\n",
      "            Col1  Col2  Col3\n",
      "2020-01-01   NaN    10    13\n",
      "2020-01-02   NaN    20    23\n",
      "2020-01-03   NaN    15    18\n",
      "2020-01-04   NaN    30    33\n",
      "2020-01-05   NaN    45    48\n",
      "\n",
      ">>> df.shift(periods=3, fill_value=0)\n",
      "            Col1  Col2  Col3\n",
      "2020-01-01     0     0     0\n",
      "2020-01-02     0     0     0\n",
      "2020-01-03     0     0     0\n",
      "2020-01-04    10    13    17\n",
      "2020-01-05    20    23    27\n",
      "\n",
      ">>> df.shift(periods=3, freq=\"D\")\n",
      "            Col1  Col2  Col3\n",
      "2020-01-04    10    13    17\n",
      "2020-01-05    20    23    27\n",
      "2020-01-06    15    18    22\n",
      "2020-01-07    30    33    37\n",
      "2020-01-08    45    48    52\n",
      "\n",
      ">>> df.shift(periods=3, freq=\"infer\")\n",
      "            Col1  Col2  Col3\n",
      "2020-01-04    10    13    17\n",
      "2020-01-05    20    23    27\n",
      "2020-01-06    15    18    22\n",
      "2020-01-07    30    33    37\n",
      "2020-01-08    45    48    52\n",
      "\n",
      ">>> df['Col1'].shift(periods=[0, 1, 2])\n",
      "            Col1_0  Col1_1  Col1_2\n",
      "2020-01-01      10     NaN     NaN\n",
      "2020-01-02      20    10.0     NaN\n",
      "2020-01-03      15    20.0    10.0\n",
      "2020-01-04      30    15.0    20.0\n",
      "2020-01-05      45    30.0    15.0\n",
      "\n"
     ]
    }
   ],
   "source": [
    "import pandas as pd \n",
    "\n",
    "print(pd.DataFrame.shift.__doc__)"
   ]
  },
  {
   "cell_type": "code",
   "execution_count": null,
   "metadata": {},
   "outputs": [],
   "source": []
  },
  {
   "cell_type": "markdown",
   "metadata": {},
   "source": [
    "# Learning the `enumerate` function"
   ]
  },
  {
   "cell_type": "code",
   "execution_count": 8,
   "metadata": {},
   "outputs": [
    {
     "name": "stdout",
     "output_type": "stream",
     "text": [
      "Return an enumerate object.\n",
      "\n",
      "  iterable\n",
      "    an object supporting iteration\n",
      "\n",
      "The enumerate object yields pairs containing a count (from start, which\n",
      "defaults to zero) and a value yielded by the iterable argument.\n",
      "\n",
      "enumerate is useful for obtaining an indexed list:\n",
      "    (0, seq[0]), (1, seq[1]), (2, seq[2]), ...\n"
     ]
    }
   ],
   "source": [
    "print(enumerate.__doc__)"
   ]
  },
  {
   "cell_type": "markdown",
   "metadata": {},
   "source": [
    "Enumerate is useful when you want both the  `index` and the `value`"
   ]
  },
  {
   "cell_type": "code",
   "execution_count": 9,
   "metadata": {},
   "outputs": [
    {
     "name": "stdout",
     "output_type": "stream",
     "text": [
      "Index 0: apple\n",
      "Index 1: banana\n",
      "Index 2: cherry\n"
     ]
    }
   ],
   "source": [
    "fruits = [\"apple\", \"banana\", \"cherry\"]\n",
    "\n",
    "for index, fruit in enumerate(fruits):\n",
    "    print(f\"Index {index}: {fruit}\")"
   ]
  },
  {
   "cell_type": "code",
   "execution_count": null,
   "metadata": {},
   "outputs": [],
   "source": []
  },
  {
   "cell_type": "code",
   "execution_count": 38,
   "metadata": {},
   "outputs": [],
   "source": [
    "from collections import defaultdict\n",
    "\n",
    "dict = defaultdict(lambda:list())\n",
    "\n",
    "list_of_lyrics = ['minister', 'of enjoyment']\n",
    "\n",
    "dict['lyrics'].append(list_of_lyrics)\n",
    "#dict['song'].append(['how'])"
   ]
  },
  {
   "cell_type": "code",
   "execution_count": 29,
   "metadata": {},
   "outputs": [],
   "source": [
    "dict['the song'] = 5\n",
    "dict['out of the way '] = 'how'"
   ]
  },
  {
   "cell_type": "code",
   "execution_count": 40,
   "metadata": {},
   "outputs": [
    {
     "data": {
      "text/plain": [
       "defaultdict(<function __main__.<lambda>()>,\n",
       "            {'lyrics': [['minister', 'of enjoyment']], 'Felim': []})"
      ]
     },
     "execution_count": 40,
     "metadata": {},
     "output_type": "execute_result"
    }
   ],
   "source": [
    "dict"
   ]
  },
  {
   "cell_type": "code",
   "execution_count": null,
   "metadata": {},
   "outputs": [],
   "source": []
  }
 ],
 "metadata": {
  "kernelspec": {
   "display_name": "Python 3",
   "language": "python",
   "name": "python3"
  },
  "language_info": {
   "codemirror_mode": {
    "name": "ipython",
    "version": 3
   },
   "file_extension": ".py",
   "mimetype": "text/x-python",
   "name": "python",
   "nbconvert_exporter": "python",
   "pygments_lexer": "ipython3",
   "version": "3.13.1"
  }
 },
 "nbformat": 4,
 "nbformat_minor": 2
}
